{
 "cells": [
  {
   "cell_type": "code",
   "execution_count": null,
   "metadata": {},
   "outputs": [],
   "source": [
    "#Simulando erro obs: se tiver encoding utf-8 padrao o pandas ler sem prescisar passar parametro encoding\n",
    "import pandas as pd\n",
    "\n",
    "#pd.set_option('display.max_columns', None)# ver todas as colunas  \n",
    "caminho_do_arquivo = r\"C:\\Users\\silvio\\Downloads\\Curso BD\\Arquivos\\01.+Postgree\\01. Postgree\\Origem de dados\\V_OCORRENCIA_AMPLA.json\"\n",
    "df = pd.read_json(caminho_do_arquivo) \n",
    "df.head()"
   ]
  },
  {
   "cell_type": "markdown",
   "metadata": {},
   "source": [
    "codecs / encoding\n",
    "\n",
    "https://docs.python.org/pt-br/3/library/codecs.html\n",
    "\n",
    "O BOM (Byte Order Mark) é uma sequência de bytes especial no início de um arquivo de texto para indicar a codificação do texto e a ordem dos bytes. será lido como binario e nao como texto"
   ]
  },
  {
   "cell_type": "code",
   "execution_count": null,
   "metadata": {},
   "outputs": [],
   "source": [
    "import pandas as pd\n",
    "caminho_do_arquivo = r\"C:\\Users\\silvio\\Downloads\\Curso BD\\Arquivos\\01.+Postgree\\01. Postgree\\Origem de dados\\V_OCORRENCIA_AMPLA.json\"\n",
    "df = pd.read_json(caminho_do_arquivo, encoding='utf-8-sig')\n",
    "df.head()"
   ]
  },
  {
   "cell_type": "markdown",
   "metadata": {},
   "source": [
    "https://chardet.readthedocs.io/en/latest/usage.html"
   ]
  },
  {
   "cell_type": "code",
   "execution_count": null,
   "metadata": {},
   "outputs": [],
   "source": [
    "#pip install chardet\n",
    "import codecs\n",
    "from chardet.universaldetector import UniversalDetector\n",
    "\n",
    "caminho_do_arquivo = r\"C:\\Users\\silvio\\Downloads\\Curso BD\\Arquivos\\01.+Postgree\\01. Postgree\\Origem de dados\\V_OCORRENCIA_AMPLA.json\"\n",
    "detector = UniversalDetector()\n",
    "\n",
    "with codecs.open(caminho_do_arquivo, 'rb') as arquivo: #rb esta lendo como binario em forma de bits no lugar de texto ou outra coisa \n",
    "    for linha in arquivo:\n",
    "        detector.feed(linha)\n",
    "        if detector.done:\n",
    "            break\n",
    "\n",
    "detector.close()\n",
    "encoding_detectado = detector.result['encoding']\n",
    "\n",
    "print(encoding_detectado)\n"
   ]
  },
  {
   "cell_type": "markdown",
   "metadata": {},
   "source": [
    "https://docs.python.org/pt-br/3/library/json.html\n",
    "\n",
    "https://docs.python.org/3/library/stdtypes.html#str"
   ]
  },
  {
   "cell_type": "code",
   "execution_count": null,
   "metadata": {},
   "outputs": [],
   "source": [
    "import pandas as pd\n",
    "import json\n",
    "import codecs\n",
    "\n",
    "#pd.set_option('display.max_columns', None)# ver todas as colunas  voce pode usar para Df com muitas colunas e quer ver todas\n",
    "caminho_do_arquivo = r\"C:\\Users\\silvio\\Downloads\\Curso BD\\Arquivos\\01.+Postgree\\01. Postgree\\Origem de dados\\V_OCORRENCIA_AMPLA.json\"\n",
    "\n",
    "with codecs.open(caminho_do_arquivo, 'r', encoding='utf-8-sig') as arquivo:\n",
    "    data = json.load(arquivo)\n",
    "df_json = pd.json_normalize(data)\n",
    "df_json.head()\n"
   ]
  },
  {
   "cell_type": "markdown",
   "metadata": {},
   "source": [
    "Carregando automaticamente encoding"
   ]
  },
  {
   "cell_type": "code",
   "execution_count": null,
   "metadata": {},
   "outputs": [],
   "source": [
    "import pandas as pd\n",
    "import codecs\n",
    "from chardet.universaldetector import UniversalDetector\n",
    "\n",
    "\n",
    "pd.set_option('display.max_columns', None)\n",
    "caminho_do_arquivo = r\"C:\\Users\\silvio\\Downloads\\Curso BD\\Arquivos\\01.+Postgree\\01. Postgree\\Origem de dados\\V_OCORRENCIA_AMPLA.json\"\n",
    "detector = UniversalDetector()\n",
    "\n",
    "with codecs.open(caminho_do_arquivo, 'rb') as arquivo: #rb esta lendo como binario em forma de bits no lugar de texto ou outra coisa \n",
    "    for linha in arquivo:\n",
    "        detector.feed(linha)\n",
    "        if detector.done:\n",
    "            break\n",
    "detector.close()\n",
    "encoding_detectado = detector.result['encoding']\n",
    "\n",
    "\n",
    "df_json_automatico = pd.read_json(caminho_do_arquivo, encoding=encoding_detectado)\n",
    "df_json_automatico.head()\n"
   ]
  }
 ],
 "metadata": {
  "kernelspec": {
   "display_name": "sgbds",
   "language": "python",
   "name": "python3"
  },
  "language_info": {
   "codemirror_mode": {
    "name": "ipython",
    "version": 3
   },
   "file_extension": ".py",
   "mimetype": "text/x-python",
   "name": "python",
   "nbconvert_exporter": "python",
   "pygments_lexer": "ipython3",
   "version": "3.13.3"
  }
 },
 "nbformat": 4,
 "nbformat_minor": 2
}

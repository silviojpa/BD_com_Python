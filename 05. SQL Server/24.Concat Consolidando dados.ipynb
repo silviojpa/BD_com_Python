{
 "cells": [
  {
   "cell_type": "markdown",
   "metadata": {},
   "source": [
    "### https://pandas.pydata.org/docs/reference/api/pandas.concat.html"
   ]
  },
  {
   "cell_type": "code",
   "execution_count": null,
   "metadata": {},
   "outputs": [],
   "source": [
    "import pandas as pd\n",
    "import os\n",
    "\n",
    "vendas2021 = pd.read_excel(r\"C:\\Users\\silvio\\Documents\\Curso BD\\Udemy\\Arquivos\\05.+SQL+Server\\05. SQL Server\\Origem\\Origem\\arquivos_excel\\Consolidar\\Vendas2021.xlsx\")\n",
    "vendas2022 = pd.read_excel(r\"C:\\Users\\silvio\\Documents\\Curso BD\\Udemy\\Arquivos\\05.+SQL+Server\\05. SQL Server\\Origem\\Origem\\arquivos_excel\\Consolidar\\Vendas2022.xlsx\")\n",
    "vendas2023 = pd.read_excel(r\"C:\\Users\\silvio\\Documents\\Curso BD\\Udemy\\Arquivos\\05.+SQL+Server\\05. SQL Server\\Origem\\Origem\\arquivos_excel\\Consolidar\\Vendas2023.xlsx\")"
   ]
  },
  {
   "cell_type": "code",
   "execution_count": null,
   "metadata": {},
   "outputs": [],
   "source": [
    "vendas2021.head(5)"
   ]
  },
  {
   "cell_type": "code",
   "execution_count": null,
   "metadata": {},
   "outputs": [],
   "source": [
    "vendas2022.head(5)"
   ]
  },
  {
   "cell_type": "code",
   "execution_count": null,
   "metadata": {},
   "outputs": [],
   "source": [
    "vendas2023.head(5)"
   ]
  },
  {
   "cell_type": "code",
   "execution_count": null,
   "metadata": {},
   "outputs": [],
   "source": [
    "#Consolidado=pd.concat([vendas2021,vendas2022,vendas2023]) # com indice\n",
    "Consolidado=pd.concat([vendas2021,vendas2022,vendas2023],ignore_index=True) # Sem indice\n",
    "#Consolidado=pd.concat([vendas2021,vendas2022,vendas2023],keys=[\"2021\",\"2022\",\"2023\"]) # identificando tabelas \n"
   ]
  },
  {
   "cell_type": "code",
   "execution_count": null,
   "metadata": {},
   "outputs": [],
   "source": [
    "Consolidado.head(60)"
   ]
  },
  {
   "attachments": {},
   "cell_type": "markdown",
   "metadata": {},
   "source": [
    "##### Verificar se arquivo ja existe e adicionar no final \n",
    "\n"
   ]
  },
  {
   "cell_type": "code",
   "execution_count": null,
   "metadata": {},
   "outputs": [],
   "source": [
    "# Caminho da pasta onde será salvo o arquivo Excel\n",
    "pasta_destino = r'C:\\\\Users\\\\silvio\\\\Documents\\\\Curso BD\\\\Udemy\\Arquivos\\\\05.+SQL+Server\\\\05. SQL Server\\\\Origem\\\\Origem\\\\arquivos_excel\\\\Consolidar'\n",
    "\n",
    "# Nome do arquivo Excel (variável)\n",
    "nome_arquivo = 'VendasConcat.xlsx'\n",
    "\n",
    "# Lista para armazenar os dados dos arquivos\n",
    "dados = []\n",
    "\n",
    "# Caminho completo do arquivo Excel\n",
    "Caminho_Completo = pasta_destino + nome_arquivo \n",
    "\n",
    "if os.path.exists(Caminho_Completo):\n",
    "    # Carregar o arquivo Excel consolidado existente em um DataFrame\n",
    "    df_existente = pd.read_excel(Caminho_Completo)\n",
    "    # Adicionar os dados existentes ao DataFrame consolidado\n",
    "    dados.append(df_existente)\n",
    "\n",
    "\n",
    "\n",
    "# Salvar o DataFrame consolidado como arquivo Excel\n",
    "Consolidado.to_excel(Caminho_Completo, index=False)"
   ]
  },
  {
   "cell_type": "markdown",
   "metadata": {},
   "source": [
    "Nome de Arquivos"
   ]
  },
  {
   "cell_type": "code",
   "execution_count": null,
   "metadata": {},
   "outputs": [],
   "source": [
    "import pandas as pd\n",
    "import os\n",
    "\n",
    "vendas2021 = pd.read_excel(r\"C:\\Users\\silvio\\Documents\\Curso BD\\Udemy\\Arquivos\\05.+SQL+Server\\05. SQL Server\\Origem\\Origem\\arquivos_excel\\Consolidar\\Vendas2021.xlsx\")\n",
    "vendas2022 = pd.read_excel(r\"C:\\Users\\silvio\\Documents\\Curso BD\\Udemy\\Arquivos\\05.+SQL+Server\\05. SQL Server\\Origem\\Origem\\arquivos_excel\\Consolidar\\Vendas2022.xlsx\")\n",
    "vendas2023 = pd.read_excel(r\"C:\\Users\\silvio\\Documents\\Curso BD\\Udemy\\Arquivos\\05.+SQL+Server\\05. SQL Server\\Origem\\Origem\\arquivos_excel\\Consolidar\\Vendas2023.xlsx\")"
   ]
  },
  {
   "cell_type": "code",
   "execution_count": null,
   "metadata": {},
   "outputs": [],
   "source": [
    "df2021=pd.read_excel(vendas2021)\n",
    "df2022=pd.read_excel(vendas2022)\n",
    "df2023=pd.read_excel(vendas2023)"
   ]
  },
  {
   "cell_type": "code",
   "execution_count": null,
   "metadata": {},
   "outputs": [],
   "source": [
    "# Extrai o nome do arquivo sem o caminho e a extensão usando o módulo os\n",
    "nome_arquivo = os.path.splitext(os.path.basename(vendas2021))[0]\n",
    "nome_arquivo2 = os.path.splitext(os.path.basename(vendas2022))[0]\n",
    "nome_arquivo3 = os.path.splitext(os.path.basename(vendas2023))[0]\n",
    "\n",
    "# Adiciona o nome do arquivo \n",
    "df2021['Nome do Arquivo'] = nome_arquivo\n",
    "df2022['Nome do Arquivo'] = nome_arquivo2\n",
    "df2023['Nome do Arquivo'] = nome_arquivo3"
   ]
  },
  {
   "cell_type": "code",
   "execution_count": null,
   "metadata": {},
   "outputs": [],
   "source": [
    "Consolidado2 = pd.concat([ df2021, df2022 ,df2023 ])"
   ]
  },
  {
   "cell_type": "code",
   "execution_count": null,
   "metadata": {},
   "outputs": [],
   "source": [
    "Consolidado2"
   ]
  }
 ],
 "metadata": {
  "kernelspec": {
   "display_name": "sgbds",
   "language": "python",
   "name": "python3"
  },
  "language_info": {
   "codemirror_mode": {
    "name": "ipython",
    "version": 3
   },
   "file_extension": ".py",
   "mimetype": "text/x-python",
   "name": "python",
   "nbconvert_exporter": "python",
   "pygments_lexer": "ipython3",
   "version": "3.13.3"
  },
  "orig_nbformat": 4
 },
 "nbformat": 4,
 "nbformat_minor": 2
}

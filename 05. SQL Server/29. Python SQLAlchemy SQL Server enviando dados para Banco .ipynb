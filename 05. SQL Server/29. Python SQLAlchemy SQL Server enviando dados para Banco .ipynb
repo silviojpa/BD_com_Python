{
 "cells": [
  {
   "cell_type": "code",
   "execution_count": null,
   "metadata": {},
   "outputs": [],
   "source": [
    "import pandas as pd\n",
    "from sqlalchemy import create_engine,VARCHAR,NUMERIC,INTEGER,DATE,DATETIME,String,text\n",
    "\n",
    "#Origem\n",
    "conexaoDB = ('DRIVER={ODBC Driver 17 for SQL Server};''SERVER=DESKTOP-22ULELT;''DATABASE=DWAdventure;''Trusted_Connection=yes;')\n",
    "engine = create_engine(f'mssql+pyodbc:///?odbc_connect={conexaoDB}')\n",
    "\n",
    "query = '''\n",
    "SELECT \n",
    "ProductKey\n",
    ",ProductAlternateKey\n",
    ",FrenchProductName\n",
    ",EnglishProductName\n",
    ",Color \n",
    ",StandardCost\n",
    "  FROM [AdventureWorksDW2019].[dbo].[DimProduct]\n",
    "  where StandardCost is not null\n",
    "\n",
    "'''\n",
    "\n",
    "df = pd.read_sql_query(query, engine)\n",
    "\n",
    "# Exiba  DataFrame\n",
    "engine.dispose()\n",
    "df.head()\n"
   ]
  },
  {
   "cell_type": "markdown",
   "metadata": {},
   "source": [
    "Envio de dados para SQL Server "
   ]
  },
  {
   "cell_type": "code",
   "execution_count": null,
   "metadata": {},
   "outputs": [],
   "source": [
    "#Conexão envio\n",
    "''' parametros para to_sql (enviar dados pra banco)\n",
    "name = tabela destino\n",
    "con = conexão\n",
    "if_exists = se existir a tabela o que faço?  replace ou append\n",
    "index= index do python df \n",
    "text = transformar strig de conexão em texto para sqlalchemy  reconhecer \n",
    "dtype = tipos das colunas de destino\n",
    "\n",
    "'''"
   ]
  },
  {
   "cell_type": "code",
   "execution_count": null,
   "metadata": {},
   "outputs": [],
   "source": [
    "#conexao Destino - inferindo os tipos  dados \n",
    "conexao_destino = ('DRIVER={ODBC Driver 17 for SQL Server};''SERVER=DESKTOP-22ULELT;''DATABASE=DWAdventure;''Trusted_Connection=yes;')\n",
    "engine_destino = create_engine(f'mssql+pyodbc:///?odbc_connect={conexao_destino}')\n",
    "\n",
    "tabela_destino= 'produto_etl'\n",
    "\n",
    "tipo_colnas = {\n",
    "    \n",
    "    'ProductAlternateKey':VARCHAR(10),\n",
    "    'Color':VARCHAR(15),\n",
    "    'FrenchProductName':VARCHAR(50)\n",
    "    }\n",
    "\n",
    "df.to_sql(name= tabela_destino,con=engine_destino,if_exists='replace' ,index=False , dtype=tipo_colnas)\n",
    "\n",
    "engine_destino.dispose()\n"
   ]
  },
  {
   "cell_type": "code",
   "execution_count": null,
   "metadata": {},
   "outputs": [],
   "source": [
    "#conexao Destino\n",
    "conexao_destino = ('DRIVER={ODBC Driver 17 for SQL Server};''SERVER=DESKTOP-22ULELT;''DATABASE=DWAdventure;''Trusted_Connection=yes;')\n",
    "engine_destino = create_engine(f'mssql+pyodbc:///?odbc_connect={conexao_destino}')\n",
    "\n",
    "tabela_destino= 'produto_etl'\n",
    "\n",
    "df.to_sql(name= tabela_destino,con=engine_destino,if_exists='replace' ,index=False )\n",
    "\n",
    "engine_destino.dispose()\n",
    "\n"
   ]
  },
  {
   "cell_type": "markdown",
   "metadata": {},
   "source": [
    "Tipos de dados sqlalchemy\n",
    "\n",
    "https://docs.sqlalchemy.org/en/20/core/type_basics.html#generic-camelcase-types"
   ]
  },
  {
   "cell_type": "markdown",
   "metadata": {},
   "source": [
    "https://learn.microsoft.com/pt-br/sql/t-sql/data-types/char-and-varchar-transact-sql?view=sql-server-ver16"
   ]
  }
 ],
 "metadata": {
  "kernelspec": {
   "display_name": "sgbds",
   "language": "python",
   "name": "python3"
  },
  "language_info": {
   "codemirror_mode": {
    "name": "ipython",
    "version": 3
   },
   "file_extension": ".py",
   "mimetype": "text/x-python",
   "name": "python",
   "nbconvert_exporter": "python",
   "pygments_lexer": "ipython3",
   "version": "3.11.4"
  }
 },
 "nbformat": 4,
 "nbformat_minor": 2
}

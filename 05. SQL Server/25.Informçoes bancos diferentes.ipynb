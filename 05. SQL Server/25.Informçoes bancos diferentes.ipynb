{
 "cells": [
  {
   "cell_type": "code",
   "execution_count": 5,
   "metadata": {},
   "outputs": [],
   "source": [
    "\n",
    "import pandas as pd\n",
    "import pyodbc \n",
    "\n",
    "server = 'DESKTOP-22ULELT' # Substitua pelo nome do servidor SQL Server\n",
    "database = 'Python'  # Substitua pelo nome do banco de dados\n",
    "conexaoDB = pyodbc.connect('DRIVER={ODBC Driver 17 for SQL Server};'\n",
    "                      f'SERVER={server};'\n",
    "                      f'DATABASE={database};'\n",
    "                      'Trusted_Connection=yes;')\n",
    "\n",
    "cursor = conexaoDB.cursor()   # criando cursor de comando "
   ]
  },
  {
   "cell_type": "code",
   "execution_count": 6,
   "metadata": {},
   "outputs": [],
   "source": [
    "Query = \"\"\"\n",
    "select * from [dbo].[Items]\n",
    "where total_price >5000\n",
    "\n",
    "\"\"\""
   ]
  },
  {
   "cell_type": "code",
   "execution_count": 7,
   "metadata": {},
   "outputs": [
    {
     "name": "stderr",
     "output_type": "stream",
     "text": [
      "C:\\Users\\silvio\\AppData\\Local\\Temp\\ipykernel_6564\\1209837857.py:1: UserWarning: pandas only supports SQLAlchemy connectable (engine/connection) or database string URI or sqlite3 DBAPI2 connection. Other DBAPI2 objects are not tested. Please consider using SQLAlchemy.\n",
      "  Vendas = pd.read_sql(Query,conexaoDB)\n"
     ]
    },
    {
     "data": {
      "text/html": [
       "<div>\n",
       "<style scoped>\n",
       "    .dataframe tbody tr th:only-of-type {\n",
       "        vertical-align: middle;\n",
       "    }\n",
       "\n",
       "    .dataframe tbody tr th {\n",
       "        vertical-align: top;\n",
       "    }\n",
       "\n",
       "    .dataframe thead th {\n",
       "        text-align: right;\n",
       "    }\n",
       "</style>\n",
       "<table border=\"1\" class=\"dataframe\">\n",
       "  <thead>\n",
       "    <tr style=\"text-align: right;\">\n",
       "      <th></th>\n",
       "      <th>id</th>\n",
       "      <th>order_id</th>\n",
       "      <th>product_id</th>\n",
       "      <th>quantity</th>\n",
       "      <th>total_price</th>\n",
       "    </tr>\n",
       "  </thead>\n",
       "  <tbody>\n",
       "    <tr>\n",
       "      <th>0</th>\n",
       "      <td>29</td>\n",
       "      <td>5849</td>\n",
       "      <td>14</td>\n",
       "      <td>4</td>\n",
       "      <td>7096.0</td>\n",
       "    </tr>\n",
       "    <tr>\n",
       "      <th>1</th>\n",
       "      <td>133</td>\n",
       "      <td>1067</td>\n",
       "      <td>24</td>\n",
       "      <td>4</td>\n",
       "      <td>10652.0</td>\n",
       "    </tr>\n",
       "    <tr>\n",
       "      <th>2</th>\n",
       "      <td>160</td>\n",
       "      <td>1497</td>\n",
       "      <td>24</td>\n",
       "      <td>5</td>\n",
       "      <td>13315.0</td>\n",
       "    </tr>\n",
       "    <tr>\n",
       "      <th>3</th>\n",
       "      <td>168</td>\n",
       "      <td>614</td>\n",
       "      <td>10</td>\n",
       "      <td>4</td>\n",
       "      <td>7808.0</td>\n",
       "    </tr>\n",
       "    <tr>\n",
       "      <th>4</th>\n",
       "      <td>217</td>\n",
       "      <td>2736</td>\n",
       "      <td>23</td>\n",
       "      <td>2</td>\n",
       "      <td>5590.0</td>\n",
       "    </tr>\n",
       "    <tr>\n",
       "      <th>5</th>\n",
       "      <td>258</td>\n",
       "      <td>2896</td>\n",
       "      <td>13</td>\n",
       "      <td>5</td>\n",
       "      <td>9130.0</td>\n",
       "    </tr>\n",
       "    <tr>\n",
       "      <th>6</th>\n",
       "      <td>259</td>\n",
       "      <td>9456</td>\n",
       "      <td>23</td>\n",
       "      <td>3</td>\n",
       "      <td>8385.0</td>\n",
       "    </tr>\n",
       "    <tr>\n",
       "      <th>7</th>\n",
       "      <td>276</td>\n",
       "      <td>4528</td>\n",
       "      <td>20</td>\n",
       "      <td>4</td>\n",
       "      <td>6880.0</td>\n",
       "    </tr>\n",
       "    <tr>\n",
       "      <th>8</th>\n",
       "      <td>300</td>\n",
       "      <td>655</td>\n",
       "      <td>20</td>\n",
       "      <td>5</td>\n",
       "      <td>8600.0</td>\n",
       "    </tr>\n",
       "    <tr>\n",
       "      <th>9</th>\n",
       "      <td>319</td>\n",
       "      <td>5941</td>\n",
       "      <td>24</td>\n",
       "      <td>3</td>\n",
       "      <td>7989.0</td>\n",
       "    </tr>\n",
       "  </tbody>\n",
       "</table>\n",
       "</div>"
      ],
      "text/plain": [
       "    id  order_id  product_id  quantity  total_price\n",
       "0   29      5849          14         4       7096.0\n",
       "1  133      1067          24         4      10652.0\n",
       "2  160      1497          24         5      13315.0\n",
       "3  168       614          10         4       7808.0\n",
       "4  217      2736          23         2       5590.0\n",
       "5  258      2896          13         5       9130.0\n",
       "6  259      9456          23         3       8385.0\n",
       "7  276      4528          20         4       6880.0\n",
       "8  300       655          20         5       8600.0\n",
       "9  319      5941          24         3       7989.0"
      ]
     },
     "execution_count": 7,
     "metadata": {},
     "output_type": "execute_result"
    }
   ],
   "source": [
    "Vendas = pd.read_sql(Query,conexaoDB)\n",
    "Vendas.head(10)"
   ]
  },
  {
   "cell_type": "markdown",
   "metadata": {},
   "source": [
    "Criar conexão com 2° banco de dados / servidor\n"
   ]
  },
  {
   "cell_type": "code",
   "execution_count": null,
   "metadata": {},
   "outputs": [],
   "source": [
    "server2 = 'DESKTOP-22ULELT' # Substitua pelo nome do servidor SQL Server\n",
    "database2= 'Produtos'  # Substitua pelo nome do banco de dados\n",
    "conexaoDB2 = pyodbc.connect('DRIVER={ODBC Driver 17 for SQL Server};'\n",
    "                      f'SERVER={server2};'\n",
    "                      f'DATABASE={database2};'\n",
    "                      'Trusted_Connection=yes;')\n",
    "\n",
    "cursor2 = conexaoDB2.cursor()   # criando cursor de comando "
   ]
  },
  {
   "cell_type": "code",
   "execution_count": null,
   "metadata": {},
   "outputs": [],
   "source": [
    "Query2=\"\"\"\n",
    "\n",
    "SELECT *\n",
    "FROM [Produtos].[dbo].[Dim_Produto]\n",
    "\n",
    "\"\"\""
   ]
  },
  {
   "cell_type": "code",
   "execution_count": null,
   "metadata": {},
   "outputs": [],
   "source": [
    "Produtos= pd.read_sql(Query2,conexaoDB2)\n"
   ]
  },
  {
   "cell_type": "code",
   "execution_count": null,
   "metadata": {},
   "outputs": [],
   "source": [
    "Vendas.head(5)"
   ]
  },
  {
   "cell_type": "code",
   "execution_count": null,
   "metadata": {},
   "outputs": [],
   "source": [
    "Produtos.head(5)"
   ]
  },
  {
   "cell_type": "code",
   "execution_count": null,
   "metadata": {},
   "outputs": [],
   "source": [
    "Vendas [\"product_id\"] = Vendas [\"product_id\"].astype(int)\n",
    "Produtos [\"Id\"] = Produtos [\"Id\"].astype(int)"
   ]
  },
  {
   "cell_type": "code",
   "execution_count": null,
   "metadata": {},
   "outputs": [],
   "source": [
    "join = pd.merge(Vendas,Produtos,left_on=\"product_id\",right_on=\"Id\",how=\"left\")"
   ]
  },
  {
   "cell_type": "code",
   "execution_count": null,
   "metadata": {},
   "outputs": [],
   "source": [
    "join.head(10)"
   ]
  },
  {
   "cell_type": "code",
   "execution_count": null,
   "metadata": {},
   "outputs": [],
   "source": [
    "cursor.close\n",
    "conexaoDB.close\n",
    "cursor2.close\n",
    "conexaoDB2.close"
   ]
  }
 ],
 "metadata": {
  "kernelspec": {
   "display_name": "sgbds",
   "language": "python",
   "name": "python3"
  },
  "language_info": {
   "codemirror_mode": {
    "name": "ipython",
    "version": 3
   },
   "file_extension": ".py",
   "mimetype": "text/x-python",
   "name": "python",
   "nbconvert_exporter": "python",
   "pygments_lexer": "ipython3",
   "version": "3.13.3"
  },
  "orig_nbformat": 4
 },
 "nbformat": 4,
 "nbformat_minor": 2
}

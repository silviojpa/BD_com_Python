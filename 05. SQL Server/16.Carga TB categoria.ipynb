{
 "cells": [
  {
   "cell_type": "code",
   "execution_count": 5,
   "metadata": {},
   "outputs": [
    {
     "data": {
      "text/plain": [
       "'\\nCreate table Categoria(\\nId int,\\nCategoria nvarchar(255)\\n)\\n\\n'"
      ]
     },
     "execution_count": 5,
     "metadata": {},
     "output_type": "execute_result"
    }
   ],
   "source": [
    "\"\"\"\n",
    "Create table Categoria(\n",
    "Id int,\n",
    "Categoria nvarchar(255)\n",
    ")\n",
    "\n",
    "\"\"\""
   ]
  },
  {
   "cell_type": "code",
   "execution_count": 6,
   "metadata": {},
   "outputs": [],
   "source": [
    "\n",
    "#!pip install pyodbc \n",
    "\n",
    "import pandas as pd\n",
    "import pyodbc \n",
    "\n",
    "server = 'DESKTOP-22ULELT' # Substitua pelo nome do servidor SQL Server\n",
    "database = 'Python'  # Substitua pelo nome do banco de dados\n",
    "conexaoDB = pyodbc.connect('DRIVER={ODBC Driver 17 for SQL Server};'\n",
    "                      f'SERVER={server};'\n",
    "                      f'DATABASE={database};'\n",
    "                      'Trusted_Connection=yes;')\n",
    "\n",
    "cursor = conexaoDB.cursor()   # criando cursor de comando  "
   ]
  },
  {
   "cell_type": "code",
   "execution_count": 7,
   "metadata": {},
   "outputs": [
    {
     "data": {
      "text/plain": [
       "'Index([Id, Categoria], dtype=object)'"
      ]
     },
     "execution_count": 7,
     "metadata": {},
     "output_type": "execute_result"
    }
   ],
   "source": [
    "dados = pd.read_excel(r\"C:\\Users\\silvio\\Documents\\Curso BD\\Udemy\\Arquivos\\05.+SQL+Server\\05. SQL Server\\Origem\\Origem\\arquivos_excel\\Categoria.xlsx\")\n",
    "str(dados.columns).replace(\"'\",\"\") \n"
   ]
  },
  {
   "cell_type": "code",
   "execution_count": 8,
   "metadata": {},
   "outputs": [],
   "source": [
    "cursor.execute('truncate table [Categoria]')   #executa tarefa de  apagar dados\n",
    "cursor.commit()"
   ]
  },
  {
   "cell_type": "code",
   "execution_count": 9,
   "metadata": {},
   "outputs": [],
   "source": [
    "for index, linha in dados.iterrows():\n",
    "    \n",
    "    cursor.execute(\"Insert into [Categoria](Id,Categoria)values(?,?)\",linha.Id,linha.Categoria) \n",
    "     # inserir colunas e quantas colunas tiver passar quantidade de ??\n",
    "cursor.commit()   # validar dados no SQL Server\n",
    "cursor.close()    #Fechar Cursor\n",
    "conexaoDB.close() #Fechar Conexao"
   ]
  },
  {
   "cell_type": "markdown",
   "metadata": {},
   "source": []
  }
 ],
 "metadata": {
  "kernelspec": {
   "display_name": "sgbds",
   "language": "python",
   "name": "python3"
  },
  "language_info": {
   "codemirror_mode": {
    "name": "ipython",
    "version": 3
   },
   "file_extension": ".py",
   "mimetype": "text/x-python",
   "name": "python",
   "nbconvert_exporter": "python",
   "pygments_lexer": "ipython3",
   "version": "3.13.3"
  }
 },
 "nbformat": 4,
 "nbformat_minor": 4
}

{
 "cells": [
  {
   "cell_type": "code",
   "execution_count": null,
   "metadata": {},
   "outputs": [],
   "source": [
    "\n",
    "import pandas as pd\n",
    "import pyodbc \n",
    "\n",
    "server = 'DESKTOP-22ULELT' # Substitua pelo nome do servidor SQL Server\n",
    "database = 'Python'  # Substitua pelo nome do banco de dados\n",
    "conexaoDB = pyodbc.connect('DRIVER={ODBC Driver 17 for SQL Server};'\n",
    "                      f'SERVER={server};'\n",
    "                      f'DATABASE={database};'\n",
    "                      'Trusted_Connection=yes;')\n",
    "\n",
    "cursor = conexaoDB.cursor()   # criando cursor de comando '"
   ]
  },
  {
   "cell_type": "code",
   "execution_count": null,
   "metadata": {},
   "outputs": [],
   "source": [
    "Query = \"\"\"\n",
    "\n",
    "select \n",
    "t1.id as IdVenda\n",
    ",t3.Nome as Produto\n",
    ",t4.Categoria\n",
    ",t1.total_price\n",
    ",t2.status\n",
    ",t2.created_at\n",
    ",t5.first_name as NomeCliente\n",
    ",t5.email\n",
    ",t5.cell_phone as Telefone\n",
    ",t5.state as Estado\n",
    "from [dbo].[Items]\t\t\t\t\t\t\tas T1\t\n",
    "Left Join  [dbo].[Ordens]\t\t\t\t\tas T2 on t1.order_id = t2.id\n",
    "Left join [dbo].[Produtos]\t\t\t\t\tas T3 on t1.product_id= t3.ID\n",
    "Left join [dbo].[Categoria]\t\t\t\t\tas T4 on t3.Id_Category = t4.ID\n",
    "Left join [dbo].[Clientes]\t\t\t\t    as T5 on t2.customer_id = t5.id\n",
    "\n",
    "\n",
    "\"\"\""
   ]
  },
  {
   "cell_type": "code",
   "execution_count": null,
   "metadata": {},
   "outputs": [],
   "source": [
    "Join = pd.read_sql(Query,conexaoDB)\n",
    "Join.head(10)"
   ]
  }
 ],
 "metadata": {
  "kernelspec": {
   "display_name": "sgbds",
   "language": "python",
   "name": "python3"
  },
  "language_info": {
   "codemirror_mode": {
    "name": "ipython",
    "version": 3
   },
   "file_extension": ".py",
   "mimetype": "text/x-python",
   "name": "python",
   "nbconvert_exporter": "python",
   "pygments_lexer": "ipython3",
   "version": "3.13.3"
  },
  "orig_nbformat": 4
 },
 "nbformat": 4,
 "nbformat_minor": 2
}

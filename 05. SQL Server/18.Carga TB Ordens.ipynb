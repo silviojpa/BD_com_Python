{
 "cells": [
  {
   "cell_type": "code",
   "execution_count": 15,
   "metadata": {},
   "outputs": [
    {
     "data": {
      "text/plain": [
       "'\\nCreate table Ordens(\\nid\\t\\t\\t\\tint,\\ncreated_at       datetime,\\ncustomer_id   int,\\nstatus        nvarchar(255)\\n)\\n\\n'"
      ]
     },
     "execution_count": 15,
     "metadata": {},
     "output_type": "execute_result"
    }
   ],
   "source": [
    "\"\"\"\n",
    "Create table Ordens(\n",
    "id\t\t\t\tint,\n",
    "created_at       datetime,\n",
    "customer_id   int,\n",
    "status        nvarchar(255)\n",
    ")\n",
    "\n",
    "\"\"\""
   ]
  },
  {
   "cell_type": "code",
   "execution_count": 1,
   "metadata": {},
   "outputs": [],
   "source": [
    "\n",
    "\n",
    "#!pip install pyodbc \n",
    "\n",
    "import pandas as pd\n",
    "import pyodbc \n",
    "\n",
    "server = 'DESKTOP-22ULELT' # Substitua pelo nome do servidor SQL Server\n",
    "database = 'Python'  # Substitua pelo nome do banco de dados\n",
    "conexaoDB = pyodbc.connect('DRIVER={ODBC Driver 17 for SQL Server};'\n",
    "                      f'SERVER={server};'\n",
    "                      f'DATABASE={database};'\n",
    "                      'Trusted_Connection=yes;')\n",
    "\n",
    "cursor = conexaoDB.cursor()   # criando cursor de comando "
   ]
  },
  {
   "cell_type": "code",
   "execution_count": 2,
   "metadata": {},
   "outputs": [
    {
     "data": {
      "text/html": [
       "<div>\n",
       "<style scoped>\n",
       "    .dataframe tbody tr th:only-of-type {\n",
       "        vertical-align: middle;\n",
       "    }\n",
       "\n",
       "    .dataframe tbody tr th {\n",
       "        vertical-align: top;\n",
       "    }\n",
       "\n",
       "    .dataframe thead th {\n",
       "        text-align: right;\n",
       "    }\n",
       "</style>\n",
       "<table border=\"1\" class=\"dataframe\">\n",
       "  <thead>\n",
       "    <tr style=\"text-align: right;\">\n",
       "      <th></th>\n",
       "      <th>id</th>\n",
       "      <th>created_at</th>\n",
       "      <th>customer_id</th>\n",
       "      <th>status</th>\n",
       "    </tr>\n",
       "  </thead>\n",
       "  <tbody>\n",
       "    <tr>\n",
       "      <th>0</th>\n",
       "      <td>0</td>\n",
       "      <td>2019-08-28 03:36:31</td>\n",
       "      <td>91</td>\n",
       "      <td>entregue</td>\n",
       "    </tr>\n",
       "    <tr>\n",
       "      <th>1</th>\n",
       "      <td>1</td>\n",
       "      <td>2019-08-16 20:21:30</td>\n",
       "      <td>7</td>\n",
       "      <td>entregue</td>\n",
       "    </tr>\n",
       "    <tr>\n",
       "      <th>2</th>\n",
       "      <td>2</td>\n",
       "      <td>2019-07-11 11:00:06</td>\n",
       "      <td>26</td>\n",
       "      <td>pagamento_pendente</td>\n",
       "    </tr>\n",
       "    <tr>\n",
       "      <th>3</th>\n",
       "      <td>3</td>\n",
       "      <td>2019-08-27 21:04:41</td>\n",
       "      <td>92</td>\n",
       "      <td>pagamento_pendente</td>\n",
       "    </tr>\n",
       "    <tr>\n",
       "      <th>4</th>\n",
       "      <td>4</td>\n",
       "      <td>2019-11-03 19:58:37</td>\n",
       "      <td>63</td>\n",
       "      <td>entrega_pendente</td>\n",
       "    </tr>\n",
       "  </tbody>\n",
       "</table>\n",
       "</div>"
      ],
      "text/plain": [
       "   id          created_at  customer_id              status\n",
       "0   0 2019-08-28 03:36:31           91            entregue\n",
       "1   1 2019-08-16 20:21:30            7            entregue\n",
       "2   2 2019-07-11 11:00:06           26  pagamento_pendente\n",
       "3   3 2019-08-27 21:04:41           92  pagamento_pendente\n",
       "4   4 2019-11-03 19:58:37           63    entrega_pendente"
      ]
     },
     "execution_count": 2,
     "metadata": {},
     "output_type": "execute_result"
    }
   ],
   "source": [
    "dados = pd.read_excel(r\"C:\\Users\\silvio\\Documents\\Curso BD\\Udemy\\Arquivos\\05.+SQL+Server\\05. SQL Server\\Origem\\Origem\\arquivos_excel\\Ordens.xlsx\")\n",
    "str(dados.columns).replace(\"'\",\"\") \n",
    "dados.head(5)\n"
   ]
  },
  {
   "cell_type": "code",
   "execution_count": 3,
   "metadata": {},
   "outputs": [],
   "source": [
    "cursor.execute('truncate table  [Ordens]')   #executa tarefa de  apagar dados\n",
    "cursor.commit()"
   ]
  },
  {
   "cell_type": "code",
   "execution_count": 4,
   "metadata": {},
   "outputs": [
    {
     "data": {
      "text/plain": [
       "'Index([id, created_at, customer_id, status], dtype=object)'"
      ]
     },
     "execution_count": 4,
     "metadata": {},
     "output_type": "execute_result"
    }
   ],
   "source": [
    "str(dados.columns).replace(\"'\",\"\")  # coluna de origem "
   ]
  },
  {
   "cell_type": "code",
   "execution_count": 20,
   "metadata": {},
   "outputs": [],
   "source": [
    "\n",
    "#print(dados['total_price'].dtype)\n",
    "#dados['total_price'] = dados['total_price'].astype(float)"
   ]
  },
  {
   "cell_type": "code",
   "execution_count": 5,
   "metadata": {},
   "outputs": [],
   "source": [
    "#inserção no banco de dados \n",
    "for index, linha in dados.iterrows():\n",
    "    \n",
    "    cursor.execute(\"Insert into [Ordens](id,created_at,customer_id,status)values(?,?,?,?)\",linha.id,linha.created_at,linha.customer_id,linha.status) \n",
    "     # inserir colunas e quantas colunas tiver passar quantidade de ??\n",
    "cursor.commit()   # validar dados no SQL Server\n",
    "cursor.close()    #Fechar Cursor\n",
    "conexaoDB.close() #Fechar Conexao"
   ]
  },
  {
   "cell_type": "markdown",
   "metadata": {},
   "source": []
  }
 ],
 "metadata": {
  "kernelspec": {
   "display_name": "sgbds",
   "language": "python",
   "name": "python3"
  },
  "language_info": {
   "codemirror_mode": {
    "name": "ipython",
    "version": 3
   },
   "file_extension": ".py",
   "mimetype": "text/x-python",
   "name": "python",
   "nbconvert_exporter": "python",
   "pygments_lexer": "ipython3",
   "version": "3.13.3"
  }
 },
 "nbformat": 4,
 "nbformat_minor": 4
}

{
 "cells": [
  {
   "cell_type": "code",
   "execution_count": 1,
   "metadata": {},
   "outputs": [],
   "source": [
    "import pandas as pd\n",
    "from google.cloud import bigquery\n",
    "from google.oauth2 import service_account\n",
    "from pandas_gbq import to_gbq\n",
    "from datetime import datetime"
   ]
  },
  {
   "cell_type": "code",
   "execution_count": 2,
   "metadata": {},
   "outputs": [
    {
     "data": {
      "text/html": [
       "<div>\n",
       "<style scoped>\n",
       "    .dataframe tbody tr th:only-of-type {\n",
       "        vertical-align: middle;\n",
       "    }\n",
       "\n",
       "    .dataframe tbody tr th {\n",
       "        vertical-align: top;\n",
       "    }\n",
       "\n",
       "    .dataframe thead th {\n",
       "        text-align: right;\n",
       "    }\n",
       "</style>\n",
       "<table border=\"1\" class=\"dataframe\">\n",
       "  <thead>\n",
       "    <tr style=\"text-align: right;\">\n",
       "      <th></th>\n",
       "      <th>id</th>\n",
       "      <th>created_at</th>\n",
       "      <th>customer_id</th>\n",
       "      <th>status</th>\n",
       "    </tr>\n",
       "  </thead>\n",
       "  <tbody>\n",
       "    <tr>\n",
       "      <th>0</th>\n",
       "      <td>0</td>\n",
       "      <td>2019-08-28 03:36:31</td>\n",
       "      <td>91</td>\n",
       "      <td>entregue</td>\n",
       "    </tr>\n",
       "    <tr>\n",
       "      <th>1</th>\n",
       "      <td>1</td>\n",
       "      <td>2019-08-16 20:21:30</td>\n",
       "      <td>7</td>\n",
       "      <td>entregue</td>\n",
       "    </tr>\n",
       "    <tr>\n",
       "      <th>2</th>\n",
       "      <td>2</td>\n",
       "      <td>2019-07-11 11:00:06</td>\n",
       "      <td>26</td>\n",
       "      <td>pagamento_pendente</td>\n",
       "    </tr>\n",
       "    <tr>\n",
       "      <th>3</th>\n",
       "      <td>3</td>\n",
       "      <td>2019-08-27 21:04:41</td>\n",
       "      <td>92</td>\n",
       "      <td>pagamento_pendente</td>\n",
       "    </tr>\n",
       "    <tr>\n",
       "      <th>4</th>\n",
       "      <td>4</td>\n",
       "      <td>2019-11-03 19:58:37</td>\n",
       "      <td>63</td>\n",
       "      <td>entrega_pendente</td>\n",
       "    </tr>\n",
       "  </tbody>\n",
       "</table>\n",
       "</div>"
      ],
      "text/plain": [
       "   id          created_at  customer_id              status\n",
       "0   0 2019-08-28 03:36:31           91            entregue\n",
       "1   1 2019-08-16 20:21:30            7            entregue\n",
       "2   2 2019-07-11 11:00:06           26  pagamento_pendente\n",
       "3   3 2019-08-27 21:04:41           92  pagamento_pendente\n",
       "4   4 2019-11-03 19:58:37           63    entrega_pendente"
      ]
     },
     "execution_count": 2,
     "metadata": {},
     "output_type": "execute_result"
    }
   ],
   "source": [
    "df = pd.read_excel(r\"C:\\Users\\silvio\\Documents\\Curso BD\\Udemy\\Arquivos\\07.+Google+BigQuery\\07. Google BigQuery\\Arquivos\\Origem\\arquivos_excel\\Ordens.xlsx\")\n",
    "df.head()"
   ]
  },
  {
   "cell_type": "code",
   "execution_count": 3,
   "metadata": {},
   "outputs": [
    {
     "name": "stdout",
     "output_type": "stream",
     "text": [
      "id                      int64\n",
      "created_at     datetime64[ns]\n",
      "customer_id             int64\n",
      "status                 object\n",
      "dtype: object\n"
     ]
    }
   ],
   "source": [
    "tipos_de_dados = df.dtypes\n",
    "print(tipos_de_dados)\n"
   ]
  },
  {
   "cell_type": "code",
   "execution_count": 4,
   "metadata": {},
   "outputs": [
    {
     "data": {
      "text/plain": [
       "\"\\nhoje = datetime.now()\\nmes_atual = hoje.month\\nano_atual = hoje.year\\n\\ndf_filtrado = df[(df['created_at'].dt.month == mes_atual) & (df['created_at'].dt.year == ano_atual)]\\n\\n\\n\""
      ]
     },
     "execution_count": 4,
     "metadata": {},
     "output_type": "execute_result"
    }
   ],
   "source": [
    "# filtro no meu dataflame antes de realizar a carga (apenas o mês e ano atuais)\n",
    "\"\"\"\n",
    "hoje = datetime.now()\n",
    "mes_atual = hoje.month\n",
    "ano_atual = hoje.year\n",
    "\n",
    "df_filtrado = df[(df['created_at'].dt.month == mes_atual) & (df['created_at'].dt.year == ano_atual)]\n",
    "\n",
    "\n",
    "\"\"\""
   ]
  },
  {
   "cell_type": "code",
   "execution_count": null,
   "metadata": {},
   "outputs": [],
   "source": [
    "#hoje = datetime.now().year\n",
    "#print(hoje)"
   ]
  },
  {
   "cell_type": "code",
   "execution_count": null,
   "metadata": {},
   "outputs": [],
   "source": [
    "#df_filtrado.head(5)\n"
   ]
  },
  {
   "cell_type": "code",
   "execution_count": 5,
   "metadata": {},
   "outputs": [],
   "source": [
    "hoje = datetime.now()\n",
    "mes_atual = hoje.month\n",
    "ano_atual = hoje.year\n",
    "\n",
    "df = df[(df['created_at'].dt.month == mes_atual) & (df['created_at'].dt.year == ano_atual)]"
   ]
  },
  {
   "cell_type": "code",
   "execution_count": 6,
   "metadata": {},
   "outputs": [
    {
     "data": {
      "text/html": [
       "<div>\n",
       "<style scoped>\n",
       "    .dataframe tbody tr th:only-of-type {\n",
       "        vertical-align: middle;\n",
       "    }\n",
       "\n",
       "    .dataframe tbody tr th {\n",
       "        vertical-align: top;\n",
       "    }\n",
       "\n",
       "    .dataframe thead th {\n",
       "        text-align: right;\n",
       "    }\n",
       "</style>\n",
       "<table border=\"1\" class=\"dataframe\">\n",
       "  <thead>\n",
       "    <tr style=\"text-align: right;\">\n",
       "      <th></th>\n",
       "      <th>id</th>\n",
       "      <th>created_at</th>\n",
       "      <th>customer_id</th>\n",
       "      <th>status</th>\n",
       "    </tr>\n",
       "  </thead>\n",
       "  <tbody>\n",
       "  </tbody>\n",
       "</table>\n",
       "</div>"
      ],
      "text/plain": [
       "Empty DataFrame\n",
       "Columns: [id, created_at, customer_id, status]\n",
       "Index: []"
      ]
     },
     "execution_count": 6,
     "metadata": {},
     "output_type": "execute_result"
    }
   ],
   "source": [
    "df.head()"
   ]
  },
  {
   "cell_type": "code",
   "execution_count": null,
   "metadata": {},
   "outputs": [],
   "source": [
    "\n",
    "\n",
    "# Especifique o caminho para o arquivo JSON de credenciais\n",
    "credencial = r\"C:\\Users\\silvio\\Downloads\\pythoncurso-460114-bf3f997f8722.json\"\n",
    "\n",
    "# Crie um cliente BigQuery usando as credenciais\n",
    "clientacao = bigquery.Client.from_service_account_json(credencial)"
   ]
  },
  {
   "cell_type": "code",
   "execution_count": null,
   "metadata": {},
   "outputs": [],
   "source": [
    "comandoapagar = \"\"\" \n",
    "\n",
    " delete\n",
    " FROM `pythoncurso-398511.AulaPython.Ordens`\n",
    " where FORMAT_TIMESTAMP('%Y', created_at)  = FORMAT_TIMESTAMP('%Y', CURRENT_DATE())\n",
    " and  FORMAT_TIMESTAMP('%m', created_at)  = FORMAT_TIMESTAMP('%m', CURRENT_DATE())\n",
    "\n",
    "\n",
    "\"\"\"\n",
    "# Execute a consulta\n",
    "apagardados = clientacao.query(comandoapagar)"
   ]
  },
  {
   "cell_type": "markdown",
   "metadata": {},
   "source": [
    "https://cloud.google.com/bigquery/docs/reference/standard-sql/format-elements"
   ]
  },
  {
   "cell_type": "code",
   "execution_count": null,
   "metadata": {},
   "outputs": [],
   "source": [
    "\n",
    "# credenciais para validar importar dados para o google bigquery\n",
    "CredImportacao = service_account.Credentials.from_service_account_file(\n",
    "    credencial,\n",
    "    scopes=['https://www.googleapis.com/auth/bigquery']\n",
    ")\n",
    "\n",
    "#variaveis do projeto \n",
    "projeto = 'pythoncurso-398511'\n",
    "dataset = 'AulaPython'\n",
    "tabela = 'Ordens'\n",
    "parameretro ='append'      \n",
    "#replace = subistuir a antiga pela original \n",
    "#append = adiciona dados no fim da tabela "
   ]
  },
  {
   "cell_type": "code",
   "execution_count": null,
   "metadata": {},
   "outputs": [],
   "source": [
    "df.to_gbq(destination_table=f'{projeto}.{dataset}.{tabela}',   \n",
    "          project_id=projeto,\n",
    "          if_exists=parameretro,\n",
    "          credentials=CredImportacao)"
   ]
  },
  {
   "cell_type": "code",
   "execution_count": null,
   "metadata": {},
   "outputs": [],
   "source": [
    "\"\"\"  \n",
    "\n",
    "SELECT *\n",
    ",extract(YEAR  FROM created_at) as ano\n",
    ",extract(month  FROM created_at) as mes\n",
    ",FORMAT_TIMESTAMP('%Y', created_at) AS anoFormat\n",
    ",FORMAT_TIMESTAMP('%m', created_at) AS mesformat\n",
    ",CURRENT_DATE() hoje\n",
    " FROM `pythoncurso-398511.AulaPython.Ordens` \n",
    "\n",
    "\n",
    "\"\"\""
   ]
  },
  {
   "cell_type": "code",
   "execution_count": null,
   "metadata": {},
   "outputs": [],
   "source": [
    "#Delete\n",
    "\"\"\"\n",
    "\n",
    "delete FROM `pythoncurso-398511.AulaPython.Ordens` \n",
    " where FORMAT_TIMESTAMP('%Y', created_at) = FORMAT_TIMESTAMP('%Y', CURRENT_DATE())\n",
    " and  FORMAT_TIMESTAMP('%m', created_at) = FORMAT_TIMESTAMP('%m', CURRENT_DATE())\n",
    "\"\"\""
   ]
  },
  {
   "cell_type": "code",
   "execution_count": null,
   "metadata": {},
   "outputs": [],
   "source": []
  }
 ],
 "metadata": {
  "kernelspec": {
   "display_name": "sgbds",
   "language": "python",
   "name": "python3"
  },
  "language_info": {
   "codemirror_mode": {
    "name": "ipython",
    "version": 3
   },
   "file_extension": ".py",
   "mimetype": "text/x-python",
   "name": "python",
   "nbconvert_exporter": "python",
   "pygments_lexer": "ipython3",
   "version": "3.13.3"
  },
  "orig_nbformat": 4
 },
 "nbformat": 4,
 "nbformat_minor": 2
}

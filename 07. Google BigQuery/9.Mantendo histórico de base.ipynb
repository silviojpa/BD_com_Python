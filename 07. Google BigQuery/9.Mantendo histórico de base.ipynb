{
 "cells": [
  {
   "cell_type": "markdown",
   "metadata": {},
   "source": [
    "#### Trabalhando com Datas e mantendo histórico"
   ]
  },
  {
   "cell_type": "code",
   "execution_count": 1,
   "metadata": {},
   "outputs": [],
   "source": [
    "import pandas as pd\n",
    "from google.cloud import bigquery\n",
    "from google.oauth2 import service_account\n",
    "from pandas_gbq import to_gbq\n",
    "from datetime import datetime"
   ]
  },
  {
   "cell_type": "code",
   "execution_count": 2,
   "metadata": {},
   "outputs": [
    {
     "data": {
      "text/html": [
       "<div>\n",
       "<style scoped>\n",
       "    .dataframe tbody tr th:only-of-type {\n",
       "        vertical-align: middle;\n",
       "    }\n",
       "\n",
       "    .dataframe tbody tr th {\n",
       "        vertical-align: top;\n",
       "    }\n",
       "\n",
       "    .dataframe thead th {\n",
       "        text-align: right;\n",
       "    }\n",
       "</style>\n",
       "<table border=\"1\" class=\"dataframe\">\n",
       "  <thead>\n",
       "    <tr style=\"text-align: right;\">\n",
       "      <th></th>\n",
       "      <th>ID</th>\n",
       "      <th>Name</th>\n",
       "      <th>Price</th>\n",
       "      <th>Id_Category</th>\n",
       "    </tr>\n",
       "  </thead>\n",
       "  <tbody>\n",
       "    <tr>\n",
       "      <th>0</th>\n",
       "      <td>0</td>\n",
       "      <td>Sapato vermelho</td>\n",
       "      <td>96</td>\n",
       "      <td>0</td>\n",
       "    </tr>\n",
       "    <tr>\n",
       "      <th>1</th>\n",
       "      <td>1</td>\n",
       "      <td>Bolsa mais que Velha</td>\n",
       "      <td>8000</td>\n",
       "      <td>0</td>\n",
       "    </tr>\n",
       "    <tr>\n",
       "      <th>2</th>\n",
       "      <td>2</td>\n",
       "      <td>Calça</td>\n",
       "      <td>75</td>\n",
       "      <td>0</td>\n",
       "    </tr>\n",
       "    <tr>\n",
       "      <th>3</th>\n",
       "      <td>3</td>\n",
       "      <td>Camisa apertadinha</td>\n",
       "      <td>170</td>\n",
       "      <td>0</td>\n",
       "    </tr>\n",
       "    <tr>\n",
       "      <th>4</th>\n",
       "      <td>4</td>\n",
       "      <td>Vestido Super curto</td>\n",
       "      <td>57</td>\n",
       "      <td>0</td>\n",
       "    </tr>\n",
       "  </tbody>\n",
       "</table>\n",
       "</div>"
      ],
      "text/plain": [
       "   ID                  Name  Price  Id_Category\n",
       "0   0       Sapato vermelho     96            0\n",
       "1   1  Bolsa mais que Velha   8000            0\n",
       "2   2                 Calça     75            0\n",
       "3   3    Camisa apertadinha    170            0\n",
       "4   4   Vestido Super curto     57            0"
      ]
     },
     "execution_count": 2,
     "metadata": {},
     "output_type": "execute_result"
    }
   ],
   "source": [
    "df = pd.read_excel(r\"C:\\Users\\silvio\\Documents\\Curso BD\\Udemy\\Arquivos\\07.+Google+BigQuery\\07. Google BigQuery\\Arquivos\\Origem\\arquivos_excel\\Produto.xlsx\")\n",
    "df.head()"
   ]
  },
  {
   "cell_type": "code",
   "execution_count": 3,
   "metadata": {},
   "outputs": [],
   "source": [
    "df['DataHoraCarga'] = datetime.now()"
   ]
  },
  {
   "cell_type": "code",
   "execution_count": 4,
   "metadata": {},
   "outputs": [
    {
     "data": {
      "text/html": [
       "<div>\n",
       "<style scoped>\n",
       "    .dataframe tbody tr th:only-of-type {\n",
       "        vertical-align: middle;\n",
       "    }\n",
       "\n",
       "    .dataframe tbody tr th {\n",
       "        vertical-align: top;\n",
       "    }\n",
       "\n",
       "    .dataframe thead th {\n",
       "        text-align: right;\n",
       "    }\n",
       "</style>\n",
       "<table border=\"1\" class=\"dataframe\">\n",
       "  <thead>\n",
       "    <tr style=\"text-align: right;\">\n",
       "      <th></th>\n",
       "      <th>ID</th>\n",
       "      <th>Name</th>\n",
       "      <th>Price</th>\n",
       "      <th>Id_Category</th>\n",
       "      <th>DataHoraCarga</th>\n",
       "    </tr>\n",
       "  </thead>\n",
       "  <tbody>\n",
       "    <tr>\n",
       "      <th>0</th>\n",
       "      <td>0</td>\n",
       "      <td>Sapato vermelho</td>\n",
       "      <td>96</td>\n",
       "      <td>0</td>\n",
       "      <td>2025-05-22 17:23:55.524070</td>\n",
       "    </tr>\n",
       "    <tr>\n",
       "      <th>1</th>\n",
       "      <td>1</td>\n",
       "      <td>Bolsa mais que Velha</td>\n",
       "      <td>8000</td>\n",
       "      <td>0</td>\n",
       "      <td>2025-05-22 17:23:55.524070</td>\n",
       "    </tr>\n",
       "    <tr>\n",
       "      <th>2</th>\n",
       "      <td>2</td>\n",
       "      <td>Calça</td>\n",
       "      <td>75</td>\n",
       "      <td>0</td>\n",
       "      <td>2025-05-22 17:23:55.524070</td>\n",
       "    </tr>\n",
       "    <tr>\n",
       "      <th>3</th>\n",
       "      <td>3</td>\n",
       "      <td>Camisa apertadinha</td>\n",
       "      <td>170</td>\n",
       "      <td>0</td>\n",
       "      <td>2025-05-22 17:23:55.524070</td>\n",
       "    </tr>\n",
       "    <tr>\n",
       "      <th>4</th>\n",
       "      <td>4</td>\n",
       "      <td>Vestido Super curto</td>\n",
       "      <td>57</td>\n",
       "      <td>0</td>\n",
       "      <td>2025-05-22 17:23:55.524070</td>\n",
       "    </tr>\n",
       "  </tbody>\n",
       "</table>\n",
       "</div>"
      ],
      "text/plain": [
       "   ID                  Name  Price  Id_Category              DataHoraCarga\n",
       "0   0       Sapato vermelho     96            0 2025-05-22 17:23:55.524070\n",
       "1   1  Bolsa mais que Velha   8000            0 2025-05-22 17:23:55.524070\n",
       "2   2                 Calça     75            0 2025-05-22 17:23:55.524070\n",
       "3   3    Camisa apertadinha    170            0 2025-05-22 17:23:55.524070\n",
       "4   4   Vestido Super curto     57            0 2025-05-22 17:23:55.524070"
      ]
     },
     "execution_count": 4,
     "metadata": {},
     "output_type": "execute_result"
    }
   ],
   "source": [
    "df.head(5)"
   ]
  },
  {
   "cell_type": "code",
   "execution_count": 5,
   "metadata": {},
   "outputs": [],
   "source": [
    "df['DataHoraCarga'] = datetime.now().strftime('%Y-%m-%d %H:%M:%S')  # prescisa desta conversao para o bigquery aceitar "
   ]
  },
  {
   "cell_type": "code",
   "execution_count": 6,
   "metadata": {},
   "outputs": [
    {
     "data": {
      "text/html": [
       "<div>\n",
       "<style scoped>\n",
       "    .dataframe tbody tr th:only-of-type {\n",
       "        vertical-align: middle;\n",
       "    }\n",
       "\n",
       "    .dataframe tbody tr th {\n",
       "        vertical-align: top;\n",
       "    }\n",
       "\n",
       "    .dataframe thead th {\n",
       "        text-align: right;\n",
       "    }\n",
       "</style>\n",
       "<table border=\"1\" class=\"dataframe\">\n",
       "  <thead>\n",
       "    <tr style=\"text-align: right;\">\n",
       "      <th></th>\n",
       "      <th>ID</th>\n",
       "      <th>Name</th>\n",
       "      <th>Price</th>\n",
       "      <th>Id_Category</th>\n",
       "      <th>DataHoraCarga</th>\n",
       "    </tr>\n",
       "  </thead>\n",
       "  <tbody>\n",
       "    <tr>\n",
       "      <th>0</th>\n",
       "      <td>0</td>\n",
       "      <td>Sapato vermelho</td>\n",
       "      <td>96</td>\n",
       "      <td>0</td>\n",
       "      <td>2025-05-22 17:24:02</td>\n",
       "    </tr>\n",
       "    <tr>\n",
       "      <th>1</th>\n",
       "      <td>1</td>\n",
       "      <td>Bolsa mais que Velha</td>\n",
       "      <td>8000</td>\n",
       "      <td>0</td>\n",
       "      <td>2025-05-22 17:24:02</td>\n",
       "    </tr>\n",
       "    <tr>\n",
       "      <th>2</th>\n",
       "      <td>2</td>\n",
       "      <td>Calça</td>\n",
       "      <td>75</td>\n",
       "      <td>0</td>\n",
       "      <td>2025-05-22 17:24:02</td>\n",
       "    </tr>\n",
       "    <tr>\n",
       "      <th>3</th>\n",
       "      <td>3</td>\n",
       "      <td>Camisa apertadinha</td>\n",
       "      <td>170</td>\n",
       "      <td>0</td>\n",
       "      <td>2025-05-22 17:24:02</td>\n",
       "    </tr>\n",
       "    <tr>\n",
       "      <th>4</th>\n",
       "      <td>4</td>\n",
       "      <td>Vestido Super curto</td>\n",
       "      <td>57</td>\n",
       "      <td>0</td>\n",
       "      <td>2025-05-22 17:24:02</td>\n",
       "    </tr>\n",
       "  </tbody>\n",
       "</table>\n",
       "</div>"
      ],
      "text/plain": [
       "   ID                  Name  Price  Id_Category        DataHoraCarga\n",
       "0   0       Sapato vermelho     96            0  2025-05-22 17:24:02\n",
       "1   1  Bolsa mais que Velha   8000            0  2025-05-22 17:24:02\n",
       "2   2                 Calça     75            0  2025-05-22 17:24:02\n",
       "3   3    Camisa apertadinha    170            0  2025-05-22 17:24:02\n",
       "4   4   Vestido Super curto     57            0  2025-05-22 17:24:02"
      ]
     },
     "execution_count": 6,
     "metadata": {},
     "output_type": "execute_result"
    }
   ],
   "source": [
    "df.head(5)\n"
   ]
  },
  {
   "cell_type": "code",
   "execution_count": 7,
   "metadata": {},
   "outputs": [],
   "source": [
    "df['DataCarga'] = datetime.now().date()"
   ]
  },
  {
   "cell_type": "code",
   "execution_count": 8,
   "metadata": {},
   "outputs": [
    {
     "data": {
      "text/html": [
       "<div>\n",
       "<style scoped>\n",
       "    .dataframe tbody tr th:only-of-type {\n",
       "        vertical-align: middle;\n",
       "    }\n",
       "\n",
       "    .dataframe tbody tr th {\n",
       "        vertical-align: top;\n",
       "    }\n",
       "\n",
       "    .dataframe thead th {\n",
       "        text-align: right;\n",
       "    }\n",
       "</style>\n",
       "<table border=\"1\" class=\"dataframe\">\n",
       "  <thead>\n",
       "    <tr style=\"text-align: right;\">\n",
       "      <th></th>\n",
       "      <th>ID</th>\n",
       "      <th>Name</th>\n",
       "      <th>Price</th>\n",
       "      <th>Id_Category</th>\n",
       "      <th>DataHoraCarga</th>\n",
       "      <th>DataCarga</th>\n",
       "    </tr>\n",
       "  </thead>\n",
       "  <tbody>\n",
       "    <tr>\n",
       "      <th>0</th>\n",
       "      <td>0</td>\n",
       "      <td>Sapato vermelho</td>\n",
       "      <td>96</td>\n",
       "      <td>0</td>\n",
       "      <td>2025-05-22 17:24:02</td>\n",
       "      <td>2025-05-22</td>\n",
       "    </tr>\n",
       "    <tr>\n",
       "      <th>1</th>\n",
       "      <td>1</td>\n",
       "      <td>Bolsa mais que Velha</td>\n",
       "      <td>8000</td>\n",
       "      <td>0</td>\n",
       "      <td>2025-05-22 17:24:02</td>\n",
       "      <td>2025-05-22</td>\n",
       "    </tr>\n",
       "    <tr>\n",
       "      <th>2</th>\n",
       "      <td>2</td>\n",
       "      <td>Calça</td>\n",
       "      <td>75</td>\n",
       "      <td>0</td>\n",
       "      <td>2025-05-22 17:24:02</td>\n",
       "      <td>2025-05-22</td>\n",
       "    </tr>\n",
       "    <tr>\n",
       "      <th>3</th>\n",
       "      <td>3</td>\n",
       "      <td>Camisa apertadinha</td>\n",
       "      <td>170</td>\n",
       "      <td>0</td>\n",
       "      <td>2025-05-22 17:24:02</td>\n",
       "      <td>2025-05-22</td>\n",
       "    </tr>\n",
       "    <tr>\n",
       "      <th>4</th>\n",
       "      <td>4</td>\n",
       "      <td>Vestido Super curto</td>\n",
       "      <td>57</td>\n",
       "      <td>0</td>\n",
       "      <td>2025-05-22 17:24:02</td>\n",
       "      <td>2025-05-22</td>\n",
       "    </tr>\n",
       "  </tbody>\n",
       "</table>\n",
       "</div>"
      ],
      "text/plain": [
       "   ID                  Name  Price  Id_Category        DataHoraCarga  \\\n",
       "0   0       Sapato vermelho     96            0  2025-05-22 17:24:02   \n",
       "1   1  Bolsa mais que Velha   8000            0  2025-05-22 17:24:02   \n",
       "2   2                 Calça     75            0  2025-05-22 17:24:02   \n",
       "3   3    Camisa apertadinha    170            0  2025-05-22 17:24:02   \n",
       "4   4   Vestido Super curto     57            0  2025-05-22 17:24:02   \n",
       "\n",
       "    DataCarga  \n",
       "0  2025-05-22  \n",
       "1  2025-05-22  \n",
       "2  2025-05-22  \n",
       "3  2025-05-22  \n",
       "4  2025-05-22  "
      ]
     },
     "execution_count": 8,
     "metadata": {},
     "output_type": "execute_result"
    }
   ],
   "source": [
    "df.head(5)"
   ]
  },
  {
   "cell_type": "code",
   "execution_count": 9,
   "metadata": {},
   "outputs": [],
   "source": [
    "df['DataCargaPTBR'] = datetime.now().strftime('%d/%m/%Y')"
   ]
  },
  {
   "cell_type": "code",
   "execution_count": 10,
   "metadata": {},
   "outputs": [
    {
     "data": {
      "text/html": [
       "<div>\n",
       "<style scoped>\n",
       "    .dataframe tbody tr th:only-of-type {\n",
       "        vertical-align: middle;\n",
       "    }\n",
       "\n",
       "    .dataframe tbody tr th {\n",
       "        vertical-align: top;\n",
       "    }\n",
       "\n",
       "    .dataframe thead th {\n",
       "        text-align: right;\n",
       "    }\n",
       "</style>\n",
       "<table border=\"1\" class=\"dataframe\">\n",
       "  <thead>\n",
       "    <tr style=\"text-align: right;\">\n",
       "      <th></th>\n",
       "      <th>ID</th>\n",
       "      <th>Name</th>\n",
       "      <th>Price</th>\n",
       "      <th>Id_Category</th>\n",
       "      <th>DataHoraCarga</th>\n",
       "      <th>DataCarga</th>\n",
       "      <th>DataCargaPTBR</th>\n",
       "    </tr>\n",
       "  </thead>\n",
       "  <tbody>\n",
       "    <tr>\n",
       "      <th>0</th>\n",
       "      <td>0</td>\n",
       "      <td>Sapato vermelho</td>\n",
       "      <td>96</td>\n",
       "      <td>0</td>\n",
       "      <td>2025-05-22 17:24:02</td>\n",
       "      <td>2025-05-22</td>\n",
       "      <td>22/05/2025</td>\n",
       "    </tr>\n",
       "    <tr>\n",
       "      <th>1</th>\n",
       "      <td>1</td>\n",
       "      <td>Bolsa mais que Velha</td>\n",
       "      <td>8000</td>\n",
       "      <td>0</td>\n",
       "      <td>2025-05-22 17:24:02</td>\n",
       "      <td>2025-05-22</td>\n",
       "      <td>22/05/2025</td>\n",
       "    </tr>\n",
       "    <tr>\n",
       "      <th>2</th>\n",
       "      <td>2</td>\n",
       "      <td>Calça</td>\n",
       "      <td>75</td>\n",
       "      <td>0</td>\n",
       "      <td>2025-05-22 17:24:02</td>\n",
       "      <td>2025-05-22</td>\n",
       "      <td>22/05/2025</td>\n",
       "    </tr>\n",
       "    <tr>\n",
       "      <th>3</th>\n",
       "      <td>3</td>\n",
       "      <td>Camisa apertadinha</td>\n",
       "      <td>170</td>\n",
       "      <td>0</td>\n",
       "      <td>2025-05-22 17:24:02</td>\n",
       "      <td>2025-05-22</td>\n",
       "      <td>22/05/2025</td>\n",
       "    </tr>\n",
       "    <tr>\n",
       "      <th>4</th>\n",
       "      <td>4</td>\n",
       "      <td>Vestido Super curto</td>\n",
       "      <td>57</td>\n",
       "      <td>0</td>\n",
       "      <td>2025-05-22 17:24:02</td>\n",
       "      <td>2025-05-22</td>\n",
       "      <td>22/05/2025</td>\n",
       "    </tr>\n",
       "  </tbody>\n",
       "</table>\n",
       "</div>"
      ],
      "text/plain": [
       "   ID                  Name  Price  Id_Category        DataHoraCarga  \\\n",
       "0   0       Sapato vermelho     96            0  2025-05-22 17:24:02   \n",
       "1   1  Bolsa mais que Velha   8000            0  2025-05-22 17:24:02   \n",
       "2   2                 Calça     75            0  2025-05-22 17:24:02   \n",
       "3   3    Camisa apertadinha    170            0  2025-05-22 17:24:02   \n",
       "4   4   Vestido Super curto     57            0  2025-05-22 17:24:02   \n",
       "\n",
       "    DataCarga DataCargaPTBR  \n",
       "0  2025-05-22    22/05/2025  \n",
       "1  2025-05-22    22/05/2025  \n",
       "2  2025-05-22    22/05/2025  \n",
       "3  2025-05-22    22/05/2025  \n",
       "4  2025-05-22    22/05/2025  "
      ]
     },
     "execution_count": 10,
     "metadata": {},
     "output_type": "execute_result"
    }
   ],
   "source": [
    "df.head(5)"
   ]
  },
  {
   "cell_type": "code",
   "execution_count": 11,
   "metadata": {},
   "outputs": [],
   "source": [
    "df['HoraCarga'] = datetime.now().strftime('%H:%M:%S')"
   ]
  },
  {
   "cell_type": "code",
   "execution_count": 12,
   "metadata": {},
   "outputs": [
    {
     "data": {
      "text/html": [
       "<div>\n",
       "<style scoped>\n",
       "    .dataframe tbody tr th:only-of-type {\n",
       "        vertical-align: middle;\n",
       "    }\n",
       "\n",
       "    .dataframe tbody tr th {\n",
       "        vertical-align: top;\n",
       "    }\n",
       "\n",
       "    .dataframe thead th {\n",
       "        text-align: right;\n",
       "    }\n",
       "</style>\n",
       "<table border=\"1\" class=\"dataframe\">\n",
       "  <thead>\n",
       "    <tr style=\"text-align: right;\">\n",
       "      <th></th>\n",
       "      <th>ID</th>\n",
       "      <th>Name</th>\n",
       "      <th>Price</th>\n",
       "      <th>Id_Category</th>\n",
       "      <th>DataHoraCarga</th>\n",
       "      <th>DataCarga</th>\n",
       "      <th>DataCargaPTBR</th>\n",
       "      <th>HoraCarga</th>\n",
       "    </tr>\n",
       "  </thead>\n",
       "  <tbody>\n",
       "    <tr>\n",
       "      <th>0</th>\n",
       "      <td>0</td>\n",
       "      <td>Sapato vermelho</td>\n",
       "      <td>96</td>\n",
       "      <td>0</td>\n",
       "      <td>2025-05-22 17:24:02</td>\n",
       "      <td>2025-05-22</td>\n",
       "      <td>22/05/2025</td>\n",
       "      <td>17:30:28</td>\n",
       "    </tr>\n",
       "    <tr>\n",
       "      <th>1</th>\n",
       "      <td>1</td>\n",
       "      <td>Bolsa mais que Velha</td>\n",
       "      <td>8000</td>\n",
       "      <td>0</td>\n",
       "      <td>2025-05-22 17:24:02</td>\n",
       "      <td>2025-05-22</td>\n",
       "      <td>22/05/2025</td>\n",
       "      <td>17:30:28</td>\n",
       "    </tr>\n",
       "    <tr>\n",
       "      <th>2</th>\n",
       "      <td>2</td>\n",
       "      <td>Calça</td>\n",
       "      <td>75</td>\n",
       "      <td>0</td>\n",
       "      <td>2025-05-22 17:24:02</td>\n",
       "      <td>2025-05-22</td>\n",
       "      <td>22/05/2025</td>\n",
       "      <td>17:30:28</td>\n",
       "    </tr>\n",
       "    <tr>\n",
       "      <th>3</th>\n",
       "      <td>3</td>\n",
       "      <td>Camisa apertadinha</td>\n",
       "      <td>170</td>\n",
       "      <td>0</td>\n",
       "      <td>2025-05-22 17:24:02</td>\n",
       "      <td>2025-05-22</td>\n",
       "      <td>22/05/2025</td>\n",
       "      <td>17:30:28</td>\n",
       "    </tr>\n",
       "    <tr>\n",
       "      <th>4</th>\n",
       "      <td>4</td>\n",
       "      <td>Vestido Super curto</td>\n",
       "      <td>57</td>\n",
       "      <td>0</td>\n",
       "      <td>2025-05-22 17:24:02</td>\n",
       "      <td>2025-05-22</td>\n",
       "      <td>22/05/2025</td>\n",
       "      <td>17:30:28</td>\n",
       "    </tr>\n",
       "  </tbody>\n",
       "</table>\n",
       "</div>"
      ],
      "text/plain": [
       "   ID                  Name  Price  Id_Category        DataHoraCarga  \\\n",
       "0   0       Sapato vermelho     96            0  2025-05-22 17:24:02   \n",
       "1   1  Bolsa mais que Velha   8000            0  2025-05-22 17:24:02   \n",
       "2   2                 Calça     75            0  2025-05-22 17:24:02   \n",
       "3   3    Camisa apertadinha    170            0  2025-05-22 17:24:02   \n",
       "4   4   Vestido Super curto     57            0  2025-05-22 17:24:02   \n",
       "\n",
       "    DataCarga DataCargaPTBR HoraCarga  \n",
       "0  2025-05-22    22/05/2025  17:30:28  \n",
       "1  2025-05-22    22/05/2025  17:30:28  \n",
       "2  2025-05-22    22/05/2025  17:30:28  \n",
       "3  2025-05-22    22/05/2025  17:30:28  \n",
       "4  2025-05-22    22/05/2025  17:30:28  "
      ]
     },
     "execution_count": 12,
     "metadata": {},
     "output_type": "execute_result"
    }
   ],
   "source": [
    "df.head(5)"
   ]
  },
  {
   "cell_type": "code",
   "execution_count": 13,
   "metadata": {},
   "outputs": [
    {
     "data": {
      "text/plain": [
       "ID                int64\n",
       "Name             object\n",
       "Price             int64\n",
       "Id_Category       int64\n",
       "DataHoraCarga    object\n",
       "DataCarga        object\n",
       "DataCargaPTBR    object\n",
       "HoraCarga        object\n",
       "dtype: object"
      ]
     },
     "execution_count": 13,
     "metadata": {},
     "output_type": "execute_result"
    }
   ],
   "source": [
    "df.dtypes"
   ]
  },
  {
   "cell_type": "markdown",
   "metadata": {},
   "source": [
    "##### https://docs.python.org/pt-br/3/library/datetime.html"
   ]
  },
  {
   "cell_type": "code",
   "execution_count": 14,
   "metadata": {},
   "outputs": [],
   "source": [
    "#converter para BQ Aceitar\n",
    "df['DataHoraCarga'] = pd.to_datetime(df['DataHoraCarga'])\n",
    "df['DataCarga'] = pd.to_datetime(df['DataCarga'])"
   ]
  },
  {
   "cell_type": "code",
   "execution_count": 15,
   "metadata": {},
   "outputs": [
    {
     "data": {
      "text/plain": [
       "ID                        int64\n",
       "Name                     object\n",
       "Price                     int64\n",
       "Id_Category               int64\n",
       "DataHoraCarga    datetime64[ns]\n",
       "DataCarga        datetime64[ns]\n",
       "DataCargaPTBR            object\n",
       "HoraCarga                object\n",
       "dtype: object"
      ]
     },
     "execution_count": 15,
     "metadata": {},
     "output_type": "execute_result"
    }
   ],
   "source": [
    "df.dtypes"
   ]
  },
  {
   "cell_type": "code",
   "execution_count": 16,
   "metadata": {},
   "outputs": [
    {
     "data": {
      "text/html": [
       "<div>\n",
       "<style scoped>\n",
       "    .dataframe tbody tr th:only-of-type {\n",
       "        vertical-align: middle;\n",
       "    }\n",
       "\n",
       "    .dataframe tbody tr th {\n",
       "        vertical-align: top;\n",
       "    }\n",
       "\n",
       "    .dataframe thead th {\n",
       "        text-align: right;\n",
       "    }\n",
       "</style>\n",
       "<table border=\"1\" class=\"dataframe\">\n",
       "  <thead>\n",
       "    <tr style=\"text-align: right;\">\n",
       "      <th></th>\n",
       "      <th>ID</th>\n",
       "      <th>Name</th>\n",
       "      <th>Price</th>\n",
       "      <th>Id_Category</th>\n",
       "      <th>DataHoraCarga</th>\n",
       "      <th>DataCarga</th>\n",
       "      <th>DataCargaPTBR</th>\n",
       "      <th>HoraCarga</th>\n",
       "    </tr>\n",
       "  </thead>\n",
       "  <tbody>\n",
       "    <tr>\n",
       "      <th>0</th>\n",
       "      <td>0</td>\n",
       "      <td>Sapato vermelho</td>\n",
       "      <td>96</td>\n",
       "      <td>0</td>\n",
       "      <td>2025-05-22 17:24:02</td>\n",
       "      <td>2025-05-22</td>\n",
       "      <td>22/05/2025</td>\n",
       "      <td>17:30:28</td>\n",
       "    </tr>\n",
       "    <tr>\n",
       "      <th>1</th>\n",
       "      <td>1</td>\n",
       "      <td>Bolsa mais que Velha</td>\n",
       "      <td>8000</td>\n",
       "      <td>0</td>\n",
       "      <td>2025-05-22 17:24:02</td>\n",
       "      <td>2025-05-22</td>\n",
       "      <td>22/05/2025</td>\n",
       "      <td>17:30:28</td>\n",
       "    </tr>\n",
       "    <tr>\n",
       "      <th>2</th>\n",
       "      <td>2</td>\n",
       "      <td>Calça</td>\n",
       "      <td>75</td>\n",
       "      <td>0</td>\n",
       "      <td>2025-05-22 17:24:02</td>\n",
       "      <td>2025-05-22</td>\n",
       "      <td>22/05/2025</td>\n",
       "      <td>17:30:28</td>\n",
       "    </tr>\n",
       "    <tr>\n",
       "      <th>3</th>\n",
       "      <td>3</td>\n",
       "      <td>Camisa apertadinha</td>\n",
       "      <td>170</td>\n",
       "      <td>0</td>\n",
       "      <td>2025-05-22 17:24:02</td>\n",
       "      <td>2025-05-22</td>\n",
       "      <td>22/05/2025</td>\n",
       "      <td>17:30:28</td>\n",
       "    </tr>\n",
       "    <tr>\n",
       "      <th>4</th>\n",
       "      <td>4</td>\n",
       "      <td>Vestido Super curto</td>\n",
       "      <td>57</td>\n",
       "      <td>0</td>\n",
       "      <td>2025-05-22 17:24:02</td>\n",
       "      <td>2025-05-22</td>\n",
       "      <td>22/05/2025</td>\n",
       "      <td>17:30:28</td>\n",
       "    </tr>\n",
       "  </tbody>\n",
       "</table>\n",
       "</div>"
      ],
      "text/plain": [
       "   ID                  Name  Price  Id_Category       DataHoraCarga  \\\n",
       "0   0       Sapato vermelho     96            0 2025-05-22 17:24:02   \n",
       "1   1  Bolsa mais que Velha   8000            0 2025-05-22 17:24:02   \n",
       "2   2                 Calça     75            0 2025-05-22 17:24:02   \n",
       "3   3    Camisa apertadinha    170            0 2025-05-22 17:24:02   \n",
       "4   4   Vestido Super curto     57            0 2025-05-22 17:24:02   \n",
       "\n",
       "   DataCarga DataCargaPTBR HoraCarga  \n",
       "0 2025-05-22    22/05/2025  17:30:28  \n",
       "1 2025-05-22    22/05/2025  17:30:28  \n",
       "2 2025-05-22    22/05/2025  17:30:28  \n",
       "3 2025-05-22    22/05/2025  17:30:28  \n",
       "4 2025-05-22    22/05/2025  17:30:28  "
      ]
     },
     "execution_count": 16,
     "metadata": {},
     "output_type": "execute_result"
    }
   ],
   "source": [
    "df.head(5)"
   ]
  },
  {
   "cell_type": "code",
   "execution_count": 17,
   "metadata": {},
   "outputs": [],
   "source": [
    "# credenciais para validar importar dados para o google bigquery\n",
    "credencial = r\"C:\\Users\\silvio\\Downloads\\pythoncurso-460114-bf3f997f8722.json\"\n",
    "CredImportacao = service_account.Credentials.from_service_account_file(\n",
    "    credencial,\n",
    "    scopes=['https://www.googleapis.com/auth/bigquery']\n",
    ")\n",
    "\n",
    "# variaveis do projeto \n",
    "projeto = 'pythoncurso-460114'\n",
    "dataset = 'AulaPython'\n",
    "tabela = 'ProdutoHistorico'\n",
    "parameretro ='append'      \n",
    "#replace = subistuir a antiga pela original \n",
    "#append = adiciona dados no fim da tabela "
   ]
  },
  {
   "cell_type": "code",
   "execution_count": null,
   "metadata": {},
   "outputs": [],
   "source": [
    "#df['Price'] = df['Price'].astype(int)\n",
    "#df['Id_Category'] = df['Id_Category'].astype(int)"
   ]
  },
  {
   "cell_type": "code",
   "execution_count": 18,
   "metadata": {},
   "outputs": [
    {
     "data": {
      "text/plain": [
       "ID                        int64\n",
       "Name                     object\n",
       "Price                     int64\n",
       "Id_Category               int64\n",
       "DataHoraCarga    datetime64[ns]\n",
       "DataCarga        datetime64[ns]\n",
       "DataCargaPTBR            object\n",
       "HoraCarga                object\n",
       "dtype: object"
      ]
     },
     "execution_count": 18,
     "metadata": {},
     "output_type": "execute_result"
    }
   ],
   "source": [
    "df.dtypes"
   ]
  },
  {
   "cell_type": "code",
   "execution_count": 19,
   "metadata": {},
   "outputs": [],
   "source": [
    "schema = [\n",
    "    {'name': 'DataHoraCarga', 'type': 'TIMESTAMP'},# Use 'TIMESTAMP' para datetime64[ns] (pode ser tambem da certo)\n",
    "    {'name': 'Price', 'type': 'INTEGER'},\n",
    "    {'name': 'Id_Category', 'type': 'INTEGER'},\n",
    "    {'name': 'DataCarga', 'type': 'DATE'} #SOMENTE DATA\n",
    "]\n",
    "\n"
   ]
  },
  {
   "cell_type": "code",
   "execution_count": 20,
   "metadata": {},
   "outputs": [
    {
     "name": "stderr",
     "output_type": "stream",
     "text": [
      "C:\\Users\\silvio\\AppData\\Local\\Temp\\ipykernel_7304\\3785485326.py:2: FutureWarning: to_gbq is deprecated and will be removed in a future version. Please use pandas_gbq.to_gbq instead: https://pandas-gbq.readthedocs.io/en/latest/api.html#pandas_gbq.to_gbq\n",
      "  df.to_gbq(destination_table=f'{projeto}.{dataset}.{tabela}',\n"
     ]
    }
   ],
   "source": [
    "# Use o método to_gbq para enviar o DataFrame para o BigQuery\n",
    "df.to_gbq(destination_table=f'{projeto}.{dataset}.{tabela}',\n",
    "          project_id=projeto,\n",
    "          if_exists=parameretro,\n",
    "          credentials=CredImportacao,\n",
    "          table_schema=schema)"
   ]
  },
  {
   "cell_type": "code",
   "execution_count": 21,
   "metadata": {},
   "outputs": [
    {
     "data": {
      "text/plain": [
       "'\\n\\nSELECT * FROM `pythoncurso-398511.AulaPython.ProdutoHistorico`\\nwhere HoraCarga = \\n  (SELECT max(HoraCarga)FROM `pythoncurso-398511.AulaPython.ProdutoHistorico`)\\n\\n'"
      ]
     },
     "execution_count": 21,
     "metadata": {},
     "output_type": "execute_result"
    }
   ],
   "source": [
    "\"\"\"\n",
    "\n",
    "SELECT * FROM `pythoncurso-398511.AulaPython.ProdutoHistorico`\n",
    "where HoraCarga = \n",
    "  (SELECT max(HoraCarga)FROM `pythoncurso-398511.AulaPython.ProdutoHistorico`)\n",
    "\n",
    "\"\"\"\n"
   ]
  }
 ],
 "metadata": {
  "kernelspec": {
   "display_name": "sgbds",
   "language": "python",
   "name": "python3"
  },
  "language_info": {
   "codemirror_mode": {
    "name": "ipython",
    "version": 3
   },
   "file_extension": ".py",
   "mimetype": "text/x-python",
   "name": "python",
   "nbconvert_exporter": "python",
   "pygments_lexer": "ipython3",
   "version": "3.13.3"
  },
  "orig_nbformat": 4
 },
 "nbformat": 4,
 "nbformat_minor": 2
}

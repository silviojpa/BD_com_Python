{
 "cells": [
  {
   "cell_type": "code",
   "execution_count": 1,
   "metadata": {},
   "outputs": [],
   "source": [
    "from google.cloud import bigquery\n",
    "import pandas as pd"
   ]
  },
  {
   "cell_type": "code",
   "execution_count": 2,
   "metadata": {},
   "outputs": [],
   "source": [
    "# Especifique o caminho para o arquivo JSON de credenciais\n",
    "credencial = r\"C:\\Users\\silvio\\Downloads\\pythoncurso-460114-bf3f997f8722.json\"\n",
    "# Crie um cliente BigQuery usando as credenciais\n",
    "client = bigquery.Client.from_service_account_json(credencial)"
   ]
  },
  {
   "cell_type": "code",
   "execution_count": 3,
   "metadata": {},
   "outputs": [],
   "source": [
    "# querys \n",
    "queryProduto = \"\"\" \n",
    "SELECT * FROM `pythoncurso-460114.Ecommerce.Produto`\n",
    "limit 10\n",
    "\"\"\"\n",
    "queryCategoria=\"\"\" \n",
    "SELECT * FROM `pythoncurso-460114.Ecommerce.Categoria`\n",
    "where id in (0,5,8,10)\n",
    "\"\"\"\n",
    "queryItens=\"\"\"\n",
    "SELECT * FROM `pythoncurso-460114.Ecommerce.Items`\n",
    "\"\"\"\n",
    "queryordens=\"\"\"\n",
    "SELECT * FROM `pythoncurso-460114.Ecommerce.Ordens`\n",
    "limit 20\n",
    "\"\"\"\n",
    "queryClientes=\"\"\"\n",
    "SELECT * FROM `pythoncurso-460114.Ecommerce.clientes`\n",
    "limit 50\n",
    "\"\"\"\n"
   ]
  },
  {
   "cell_type": "code",
   "execution_count": 4,
   "metadata": {},
   "outputs": [],
   "source": [
    "resultadoProduto    = client.query(queryProduto)\n",
    "resultadoCategoria  = client.query(queryCategoria)\n",
    "resultadoItens      = client.query(queryItens)\n",
    "resultadoOrdens     = client.query(queryordens)\n",
    "resultadoClientes   = client.query(queryClientes)"
   ]
  },
  {
   "cell_type": "code",
   "execution_count": 5,
   "metadata": {},
   "outputs": [
    {
     "name": "stderr",
     "output_type": "stream",
     "text": [
      "c:\\Users\\silvio\\Documents\\Curso BD\\Udemy\\Python - SGBDS\\sgbds\\Lib\\site-packages\\google\\cloud\\bigquery\\table.py:1962: UserWarning: BigQuery Storage module not found, fetch data with the REST endpoint instead.\n",
      "  warnings.warn(\n"
     ]
    }
   ],
   "source": [
    "# Converta os resultados em um DataFrame\n",
    "Produto     = resultadoProduto.to_dataframe()\n",
    "DfCategoria = resultadoCategoria.to_dataframe()\n",
    "DfItens     = resultadoItens.to_dataframe()\n",
    "DfOrdens    = resultadoOrdens.to_dataframe()\n",
    "DfClientes  = resultadoClientes.to_dataframe()"
   ]
  },
  {
   "cell_type": "code",
   "execution_count": 8,
   "metadata": {},
   "outputs": [
    {
     "data": {
      "text/html": [
       "<div>\n",
       "<style scoped>\n",
       "    .dataframe tbody tr th:only-of-type {\n",
       "        vertical-align: middle;\n",
       "    }\n",
       "\n",
       "    .dataframe tbody tr th {\n",
       "        vertical-align: top;\n",
       "    }\n",
       "\n",
       "    .dataframe thead th {\n",
       "        text-align: right;\n",
       "    }\n",
       "</style>\n",
       "<table border=\"1\" class=\"dataframe\">\n",
       "  <thead>\n",
       "    <tr style=\"text-align: right;\">\n",
       "      <th></th>\n",
       "      <th>id</th>\n",
       "      <th>created_at</th>\n",
       "      <th>customer_id</th>\n",
       "      <th>status</th>\n",
       "    </tr>\n",
       "  </thead>\n",
       "  <tbody>\n",
       "    <tr>\n",
       "      <th>0</th>\n",
       "      <td>763</td>\n",
       "      <td>2019-05-04 12:22:23</td>\n",
       "      <td>0</td>\n",
       "      <td>cancelado</td>\n",
       "    </tr>\n",
       "    <tr>\n",
       "      <th>1</th>\n",
       "      <td>4704</td>\n",
       "      <td>2019-07-23 19:29:50</td>\n",
       "      <td>0</td>\n",
       "      <td>cancelado</td>\n",
       "    </tr>\n",
       "    <tr>\n",
       "      <th>2</th>\n",
       "      <td>4777</td>\n",
       "      <td>2019-07-26 21:16:35</td>\n",
       "      <td>0</td>\n",
       "      <td>cancelado</td>\n",
       "    </tr>\n",
       "    <tr>\n",
       "      <th>3</th>\n",
       "      <td>5497</td>\n",
       "      <td>2019-04-10 07:22:54</td>\n",
       "      <td>0</td>\n",
       "      <td>cancelado</td>\n",
       "    </tr>\n",
       "    <tr>\n",
       "      <th>4</th>\n",
       "      <td>5862</td>\n",
       "      <td>2019-05-11 05:57:37</td>\n",
       "      <td>0</td>\n",
       "      <td>cancelado</td>\n",
       "    </tr>\n",
       "  </tbody>\n",
       "</table>\n",
       "</div>"
      ],
      "text/plain": [
       "     id          created_at  customer_id     status\n",
       "0   763 2019-05-04 12:22:23            0  cancelado\n",
       "1  4704 2019-07-23 19:29:50            0  cancelado\n",
       "2  4777 2019-07-26 21:16:35            0  cancelado\n",
       "3  5497 2019-04-10 07:22:54            0  cancelado\n",
       "4  5862 2019-05-11 05:57:37            0  cancelado"
      ]
     },
     "execution_count": 8,
     "metadata": {},
     "output_type": "execute_result"
    }
   ],
   "source": [
    "DfOrdens.head()"
   ]
  },
  {
   "cell_type": "code",
   "execution_count": 10,
   "metadata": {},
   "outputs": [],
   "source": [
    "#DfOrdens['created_at'] = DfOrdens['created_at'].dt.tz_convert(None)"
   ]
  },
  {
   "cell_type": "code",
   "execution_count": 11,
   "metadata": {},
   "outputs": [],
   "source": [
    "pasta = r'C:\\Users\\silvio\\Documents\\Curso BD\\Udemy\\Arquivos\\07.+Google+BigQuery\\07. Google BigQuery\\Arquivos\\Origem\\Extração_BigQuery\\\\'\n",
    "ExcelProduto   = 'Produto.xlsx'\n",
    "ExcelCategoria ='Categoria.xlsx'\n",
    "ExcelItens     = 'Itens.xlsx'\n",
    "ExcelOrdens    = 'Ordens.xlsx'\n",
    "ExcelClientes  = 'Clientes.xlsx'\n",
    "\n",
    "Produto.to_excel(pasta+ExcelProduto, index=False)  \n",
    "DfCategoria.to_excel(pasta+ExcelCategoria, index=False)  \n",
    "DfItens.to_excel(pasta+ExcelItens, index=False)  \n",
    "DfOrdens.to_excel(pasta+ExcelOrdens, index=False)  \n",
    "DfClientes.to_excel(pasta+ExcelClientes, index=False)  "
   ]
  }
 ],
 "metadata": {
  "kernelspec": {
   "display_name": "sgbds",
   "language": "python",
   "name": "python3"
  },
  "language_info": {
   "codemirror_mode": {
    "name": "ipython",
    "version": 3
   },
   "file_extension": ".py",
   "mimetype": "text/x-python",
   "name": "python",
   "nbconvert_exporter": "python",
   "pygments_lexer": "ipython3",
   "version": "3.13.3"
  },
  "orig_nbformat": 4
 },
 "nbformat": 4,
 "nbformat_minor": 2
}

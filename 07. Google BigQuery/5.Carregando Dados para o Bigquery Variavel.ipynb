{
 "cells": [
  {
   "cell_type": "code",
   "execution_count": 7,
   "metadata": {},
   "outputs": [],
   "source": [
    "import pandas as pd\n",
    "from google.cloud import bigquery\n",
    "from google.oauth2 import service_account\n",
    "from pandas_gbq import to_gbq"
   ]
  },
  {
   "cell_type": "code",
   "execution_count": 8,
   "metadata": {},
   "outputs": [],
   "source": [
    "credencial = service_account.Credentials.from_service_account_file(\n",
    "    r'C:\\Users\\silvio\\Downloads\\pythoncurso-460114-bf3f997f8722.json',\n",
    "    scopes=['https://www.googleapis.com/auth/bigquery']\n",
    ")"
   ]
  },
  {
   "cell_type": "code",
   "execution_count": 9,
   "metadata": {},
   "outputs": [],
   "source": [
    "df = pd.read_excel(r\"C:\\Users\\silvio\\Documents\\Curso BD\\Udemy\\Arquivos\\07.+Google+BigQuery\\07. Google BigQuery\\Arquivos\\Origem\\arquivos_excel\\Produto.xlsx\")\n",
    "#df.head()"
   ]
  },
  {
   "cell_type": "code",
   "execution_count": 10,
   "metadata": {},
   "outputs": [],
   "source": [
    "projeto = 'pythoncurso-460114'\n",
    "dataset = 'AulaPython'\n",
    "tabela = 'Produto2'\n",
    "parameretro ='append'    "
   ]
  },
  {
   "cell_type": "code",
   "execution_count": 11,
   "metadata": {},
   "outputs": [
    {
     "name": "stderr",
     "output_type": "stream",
     "text": [
      "C:\\Users\\silvio\\AppData\\Local\\Temp\\ipykernel_6484\\4287266342.py:1: FutureWarning: to_gbq is deprecated and will be removed in a future version. Please use pandas_gbq.to_gbq instead: https://pandas-gbq.readthedocs.io/en/latest/api.html#pandas_gbq.to_gbq\n",
      "  df.to_gbq(destination_table=f'{projeto}.{dataset}.{tabela}',\n"
     ]
    }
   ],
   "source": [
    "df.to_gbq(destination_table=f'{projeto}.{dataset}.{tabela}',   \n",
    "          project_id=projeto,\n",
    "          if_exists=parameretro,\n",
    "          credentials=credencial)"
   ]
  }
 ],
 "metadata": {
  "kernelspec": {
   "display_name": "sgbds",
   "language": "python",
   "name": "python3"
  },
  "language_info": {
   "codemirror_mode": {
    "name": "ipython",
    "version": 3
   },
   "file_extension": ".py",
   "mimetype": "text/x-python",
   "name": "python",
   "nbconvert_exporter": "python",
   "pygments_lexer": "ipython3",
   "version": "3.13.3"
  },
  "orig_nbformat": 4
 },
 "nbformat": 4,
 "nbformat_minor": 2
}

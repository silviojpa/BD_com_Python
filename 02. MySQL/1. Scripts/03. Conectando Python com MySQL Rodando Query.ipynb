{
 "cells": [
  {
   "cell_type": "markdown",
   "metadata": {},
   "source": [
    "##### Documentação \n",
    "\n",
    "\n",
    "https://dev.mysql.com/doc/connector-python/en/connector-python-example-cursor-select.html"
   ]
  },
  {
   "cell_type": "code",
   "execution_count": 1,
   "metadata": {},
   "outputs": [
    {
     "ename": "",
     "evalue": "",
     "output_type": "error",
     "traceback": [
      "\u001b[1;31mThe Kernel crashed while executing code in the current cell or a previous cell. \n",
      "\u001b[1;31mPlease review the code in the cell(s) to identify a possible cause of the failure. \n",
      "\u001b[1;31mClick <a href='https://aka.ms/vscodeJupyterKernelCrash'>here</a> for more info. \n",
      "\u001b[1;31mView Jupyter <a href='command:jupyter.viewOutput'>log</a> for further details."
     ]
    }
   ],
   "source": [
    "# pip install mysql-connector-python\n",
    "import mysql.connector\n",
    "import pandas as pd\n",
    "\n",
    "cnx = mysql.connector.connect(user='root',password='2016',host='localhost',database='python' )  \n",
    "cursor = cnx.cursor() \n",
    "\n",
    "query=  \"\"\"\n",
    "   SELECT \n",
    "        `c`.`name` AS `category`, SUM(`p`.`amount`) AS `total_sales`\n",
    "    FROM\n",
    "        (((((`sakila`.`payment` `p`\n",
    "        JOIN `sakila`.`rental` `r` ON ((`p`.`rental_id` = `r`.`rental_id`)))\n",
    "        JOIN `sakila`.`inventory` `i` ON ((`r`.`inventory_id` = `i`.`inventory_id`)))\n",
    "        JOIN `sakila`.`film` `f` ON ((`i`.`film_id` = `f`.`film_id`)))\n",
    "        JOIN `sakila`.`film_category` `fc` ON ((`f`.`film_id` = `fc`.`film_id`)))\n",
    "        JOIN `sakila`.`category` `c` ON ((`fc`.`category_id` = `c`.`category_id`)))\n",
    "    GROUP BY `c`.`name`\n",
    "    ORDER BY `total_sales` DESC\n",
    "\n",
    "\"\"\"    \n",
    "df = pd.read_sql(query,cnx)   \n",
    "\n",
    "cursor.close() \n",
    "cnx.close()    \n",
    "\n",
    "df.head()"
   ]
  }
 ],
 "metadata": {
  "kernelspec": {
   "display_name": "sgbds",
   "language": "python",
   "name": "python3"
  },
  "language_info": {
   "codemirror_mode": {
    "name": "ipython",
    "version": 3
   },
   "file_extension": ".py",
   "mimetype": "text/x-python",
   "name": "python",
   "nbconvert_exporter": "python",
   "pygments_lexer": "ipython3",
   "version": "3.13.2"
  }
 },
 "nbformat": 4,
 "nbformat_minor": 2
}
